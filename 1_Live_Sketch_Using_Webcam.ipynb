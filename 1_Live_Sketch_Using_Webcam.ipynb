{
 "cells": [
  {
   "cell_type": "code",
   "execution_count": 1,
   "metadata": {},
   "outputs": [],
   "source": [
    "import cv2\n",
    "import numpy as np"
   ]
  },
  {
   "cell_type": "code",
   "execution_count": 2,
   "metadata": {},
   "outputs": [],
   "source": [
    "def sketch(image):\n",
    "    \n",
    "    img = cv2.cvtColor(image, cv2.COLOR_BGR2GRAY)       # to convert it into grayscale\n",
    "    \n",
    "    img_blur = cv2.GaussianBlur(img, (5,5), 0)          # to remove noise \n",
    "    \n",
    "    canny = cv2.Canny(img_blur, 10, 70)                 # to extract the edges\n",
    "    \n",
    "    ret, mask = cv2.threshold(canny, 70, 255, cv2.THRESH_BINARY_INV)       # binarize the image\n",
    "    return mask"
   ]
  },
  {
   "cell_type": "code",
   "execution_count": null,
   "metadata": {},
   "outputs": [],
   "source": [
    "cap = cv2.VideoCapture(0)\n",
    "\n",
    "while True:\n",
    "    ret, frame = cap.read()\n",
    "    cv2.imshow('Live Sketch', sketch(frame))\n",
    "    \n",
    "    if cv2.waitKey(1) == 13:          # press enter to break the loop\n",
    "        break\n",
    "        \n",
    "cap.release()\n",
    "cv2.destroyAllWindows()"
   ]
  },
  {
   "cell_type": "code",
   "execution_count": null,
   "metadata": {},
   "outputs": [],
   "source": []
  }
 ],
 "metadata": {
  "kernelspec": {
   "display_name": "Python 3",
   "language": "python",
   "name": "python3"
  },
  "language_info": {
   "codemirror_mode": {
    "name": "ipython",
    "version": 3
   },
   "file_extension": ".py",
   "mimetype": "text/x-python",
   "name": "python",
   "nbconvert_exporter": "python",
   "pygments_lexer": "ipython3",
   "version": "3.7.3"
  }
 },
 "nbformat": 4,
 "nbformat_minor": 2
}
